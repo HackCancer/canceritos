{
 "cells": [
  {
   "cell_type": "markdown",
   "metadata": {
    "deletable": true,
    "editable": true
   },
   "source": [
    "# DOWNLOAD SEER DATA:\n",
    "\n",
    "TODO"
   ]
  },
  {
   "cell_type": "markdown",
   "metadata": {
    "deletable": true,
    "editable": true
   },
   "source": [
    "# INCIDENTS"
   ]
  },
  {
   "cell_type": "markdown",
   "metadata": {
    "deletable": true,
    "editable": true
   },
   "source": [
    "# GET THE TABLE INFO"
   ]
  },
  {
   "cell_type": "markdown",
   "metadata": {
    "deletable": true,
    "editable": true
   },
   "source": [
    "## la manera más facil"
   ]
  },
  {
   "cell_type": "code",
   "execution_count": 1,
   "metadata": {
    "collapsed": false
   },
   "outputs": [
    {
     "name": "stdout",
     "output_type": "stream",
     "text": [
      "/Users/patxiestomba/canceritos/notebooks\r\n"
     ]
    }
   ],
   "source": [
    "!pwd"
   ]
  },
  {
   "cell_type": "code",
   "execution_count": 3,
   "metadata": {
    "collapsed": false
   },
   "outputs": [
    {
     "name": "stdout",
     "output_type": "stream",
     "text": [
      "\u001b[34mseer\u001b[m\u001b[m\r\n"
     ]
    }
   ],
   "source": [
    "!ls ../data/raw"
   ]
  },
  {
   "cell_type": "code",
   "execution_count": 6,
   "metadata": {
    "collapsed": false
   },
   "outputs": [
    {
     "name": "stdout",
     "output_type": "stream",
     "text": [
      "\u001b[31m../data/raw/seer/incidence/read.seer.research.nov2010.sas\u001b[m\u001b[m\r\n"
     ]
    }
   ],
   "source": [
    "!ls ../data/raw/seer/incidence/read.seer.research.nov2010.sas"
   ]
  },
  {
   "cell_type": "code",
   "execution_count": 4,
   "metadata": {
    "collapsed": true
   },
   "outputs": [],
   "source": [
    "import pandas as pd"
   ]
  },
  {
   "cell_type": "code",
   "execution_count": 7,
   "metadata": {
    "collapsed": true,
    "deletable": true,
    "editable": true
   },
   "outputs": [
    {
     "ename": "ValueError",
     "evalue": "Header record is not an XPORT file.",
     "output_type": "error",
     "traceback": [
      "\u001b[0;31m---------------------------------------------------------------------------\u001b[0m",
      "\u001b[0;31mValueError\u001b[0m                                Traceback (most recent call last)",
      "\u001b[0;32m<ipython-input-7-e60be77d4a67>\u001b[0m in \u001b[0;36m<module>\u001b[0;34m()\u001b[0m\n\u001b[0;32m----> 1\u001b[0;31m \u001b[0mpd\u001b[0m\u001b[0;34m.\u001b[0m\u001b[0mread_sas\u001b[0m\u001b[0;34m(\u001b[0m\u001b[0;34m\"../data/raw/seer/incidence/read.seer.research.nov2010.sas\"\u001b[0m\u001b[0;34m,\u001b[0m \u001b[0mformat\u001b[0m\u001b[0;34m=\u001b[0m\u001b[0;34m\"xport\"\u001b[0m\u001b[0;34m)\u001b[0m\u001b[0;34m\u001b[0m\u001b[0m\n\u001b[0m",
      "\u001b[0;32m/Library/Frameworks/Python.framework/Versions/3.5/lib/python3.5/site-packages/pandas/io/sas/sasreader.py\u001b[0m in \u001b[0;36mread_sas\u001b[0;34m(filepath_or_buffer, format, index, encoding, chunksize, iterator)\u001b[0m\n\u001b[1;32m     47\u001b[0m         reader = XportReader(filepath_or_buffer, index=index,\n\u001b[1;32m     48\u001b[0m                              \u001b[0mencoding\u001b[0m\u001b[0;34m=\u001b[0m\u001b[0mencoding\u001b[0m\u001b[0;34m,\u001b[0m\u001b[0;34m\u001b[0m\u001b[0m\n\u001b[0;32m---> 49\u001b[0;31m                              chunksize=chunksize)\n\u001b[0m\u001b[1;32m     50\u001b[0m     \u001b[0;32melif\u001b[0m \u001b[0mformat\u001b[0m\u001b[0;34m.\u001b[0m\u001b[0mlower\u001b[0m\u001b[0;34m(\u001b[0m\u001b[0;34m)\u001b[0m \u001b[0;34m==\u001b[0m \u001b[0;34m'sas7bdat'\u001b[0m\u001b[0;34m:\u001b[0m\u001b[0;34m\u001b[0m\u001b[0m\n\u001b[1;32m     51\u001b[0m         \u001b[0;32mfrom\u001b[0m \u001b[0mpandas\u001b[0m\u001b[0;34m.\u001b[0m\u001b[0mio\u001b[0m\u001b[0;34m.\u001b[0m\u001b[0msas\u001b[0m\u001b[0;34m.\u001b[0m\u001b[0msas7bdat\u001b[0m \u001b[0;32mimport\u001b[0m \u001b[0mSAS7BDATReader\u001b[0m\u001b[0;34m\u001b[0m\u001b[0m\n",
      "\u001b[0;32m/Library/Frameworks/Python.framework/Versions/3.5/lib/python3.5/site-packages/pandas/io/sas/sas_xport.py\u001b[0m in \u001b[0;36m__init__\u001b[0;34m(self, filepath_or_buffer, index, encoding, chunksize)\u001b[0m\n\u001b[1;32m    252\u001b[0m             \u001b[0mself\u001b[0m\u001b[0;34m.\u001b[0m\u001b[0mfilepath_or_buffer\u001b[0m \u001b[0;34m=\u001b[0m \u001b[0mcompat\u001b[0m\u001b[0;34m.\u001b[0m\u001b[0mBytesIO\u001b[0m\u001b[0;34m(\u001b[0m\u001b[0mcontents\u001b[0m\u001b[0;34m)\u001b[0m\u001b[0;34m\u001b[0m\u001b[0m\n\u001b[1;32m    253\u001b[0m \u001b[0;34m\u001b[0m\u001b[0m\n\u001b[0;32m--> 254\u001b[0;31m         \u001b[0mself\u001b[0m\u001b[0;34m.\u001b[0m\u001b[0m_read_header\u001b[0m\u001b[0;34m(\u001b[0m\u001b[0;34m)\u001b[0m\u001b[0;34m\u001b[0m\u001b[0m\n\u001b[0m\u001b[1;32m    255\u001b[0m \u001b[0;34m\u001b[0m\u001b[0m\n\u001b[1;32m    256\u001b[0m     \u001b[0;32mdef\u001b[0m \u001b[0mclose\u001b[0m\u001b[0;34m(\u001b[0m\u001b[0mself\u001b[0m\u001b[0;34m)\u001b[0m\u001b[0;34m:\u001b[0m\u001b[0;34m\u001b[0m\u001b[0m\n",
      "\u001b[0;32m/Library/Frameworks/Python.framework/Versions/3.5/lib/python3.5/site-packages/pandas/io/sas/sas_xport.py\u001b[0m in \u001b[0;36m_read_header\u001b[0;34m(self)\u001b[0m\n\u001b[1;32m    267\u001b[0m         \u001b[0;32mif\u001b[0m \u001b[0mline1\u001b[0m \u001b[0;34m!=\u001b[0m \u001b[0m_correct_line1\u001b[0m\u001b[0;34m:\u001b[0m\u001b[0;34m\u001b[0m\u001b[0m\n\u001b[1;32m    268\u001b[0m             \u001b[0mself\u001b[0m\u001b[0;34m.\u001b[0m\u001b[0mclose\u001b[0m\u001b[0;34m(\u001b[0m\u001b[0;34m)\u001b[0m\u001b[0;34m\u001b[0m\u001b[0m\n\u001b[0;32m--> 269\u001b[0;31m             \u001b[0;32mraise\u001b[0m \u001b[0mValueError\u001b[0m\u001b[0;34m(\u001b[0m\u001b[0;34m\"Header record is not an XPORT file.\"\u001b[0m\u001b[0;34m)\u001b[0m\u001b[0;34m\u001b[0m\u001b[0m\n\u001b[0m\u001b[1;32m    270\u001b[0m \u001b[0;34m\u001b[0m\u001b[0m\n\u001b[1;32m    271\u001b[0m         \u001b[0mline2\u001b[0m \u001b[0;34m=\u001b[0m \u001b[0mself\u001b[0m\u001b[0;34m.\u001b[0m\u001b[0m_get_row\u001b[0m\u001b[0;34m(\u001b[0m\u001b[0;34m)\u001b[0m\u001b[0;34m\u001b[0m\u001b[0m\n",
      "\u001b[0;31mValueError\u001b[0m: Header record is not an XPORT file."
     ]
    }
   ],
   "source": [
    "pd.read_sas(\"../data/raw/seer/incidence/read.seer.research.nov2010.sas\", format=\"xport\")"
   ]
  },
  {
   "cell_type": "markdown",
   "metadata": {
    "deletable": true,
    "editable": true
   },
   "source": [
    "## si no funciona..."
   ]
  },
  {
   "cell_type": "code",
   "execution_count": 2,
   "metadata": {
    "collapsed": true,
    "deletable": true,
    "editable": true
   },
   "outputs": [],
   "source": [
    "import pandas as pd"
   ]
  },
  {
   "cell_type": "code",
   "execution_count": 8,
   "metadata": {
    "collapsed": true,
    "deletable": true,
    "editable": true
   },
   "outputs": [],
   "source": [
    "columns_file = \"../data/raw/seer/incidence/tabula-seerdic-7-9.csv\""
   ]
  },
  {
   "cell_type": "code",
   "execution_count": 15,
   "metadata": {
    "collapsed": false,
    "deletable": true,
    "editable": true
   },
   "outputs": [
    {
     "data": {
      "text/html": [
       "<div>\n",
       "<table border=\"1\" class=\"dataframe\">\n",
       "  <thead>\n",
       "    <tr style=\"text-align: right;\">\n",
       "      <th></th>\n",
       "      <th>Item Name</th>\n",
       "      <th>Positions</th>\n",
       "      <th>Length</th>\n",
       "    </tr>\n",
       "  </thead>\n",
       "  <tbody>\n",
       "    <tr>\n",
       "      <th>0</th>\n",
       "      <td>Patient ID number</td>\n",
       "      <td>1-8</td>\n",
       "      <td>8</td>\n",
       "    </tr>\n",
       "    <tr>\n",
       "      <th>1</th>\n",
       "      <td>Registry ID</td>\n",
       "      <td>9-18</td>\n",
       "      <td>10</td>\n",
       "    </tr>\n",
       "    <tr>\n",
       "      <th>2</th>\n",
       "      <td>Marital Status at DX</td>\n",
       "      <td>19-19</td>\n",
       "      <td>1</td>\n",
       "    </tr>\n",
       "    <tr>\n",
       "      <th>3</th>\n",
       "      <td>Race/Ethnicity</td>\n",
       "      <td>20-21</td>\n",
       "      <td>2</td>\n",
       "    </tr>\n",
       "    <tr>\n",
       "      <th>4</th>\n",
       "      <td>Spanish/Hispanic Origin</td>\n",
       "      <td>22-22</td>\n",
       "      <td>1</td>\n",
       "    </tr>\n",
       "    <tr>\n",
       "      <th>5</th>\n",
       "      <td>NHIA Derived Hispanic Origin</td>\n",
       "      <td>23-23</td>\n",
       "      <td>1</td>\n",
       "    </tr>\n",
       "    <tr>\n",
       "      <th>6</th>\n",
       "      <td>Sex</td>\n",
       "      <td>24-24</td>\n",
       "      <td>1</td>\n",
       "    </tr>\n",
       "    <tr>\n",
       "      <th>7</th>\n",
       "      <td>Age at diagnosis</td>\n",
       "      <td>25-27</td>\n",
       "      <td>3</td>\n",
       "    </tr>\n",
       "    <tr>\n",
       "      <th>8</th>\n",
       "      <td>Year of Birth</td>\n",
       "      <td>28-31</td>\n",
       "      <td>4</td>\n",
       "    </tr>\n",
       "    <tr>\n",
       "      <th>9</th>\n",
       "      <td>Birth Place</td>\n",
       "      <td>32-34</td>\n",
       "      <td>3</td>\n",
       "    </tr>\n",
       "    <tr>\n",
       "      <th>10</th>\n",
       "      <td>Sequence Number--Central</td>\n",
       "      <td>35-36</td>\n",
       "      <td>2</td>\n",
       "    </tr>\n",
       "    <tr>\n",
       "      <th>11</th>\n",
       "      <td>Month of diagnosis</td>\n",
       "      <td>37-38</td>\n",
       "      <td>2</td>\n",
       "    </tr>\n",
       "    <tr>\n",
       "      <th>12</th>\n",
       "      <td>Year of diagnosis</td>\n",
       "      <td>39-42</td>\n",
       "      <td>4</td>\n",
       "    </tr>\n",
       "    <tr>\n",
       "      <th>13</th>\n",
       "      <td>Primary Site</td>\n",
       "      <td>43-46</td>\n",
       "      <td>4</td>\n",
       "    </tr>\n",
       "    <tr>\n",
       "      <th>14</th>\n",
       "      <td>Laterality</td>\n",
       "      <td>47-47</td>\n",
       "      <td>1</td>\n",
       "    </tr>\n",
       "    <tr>\n",
       "      <th>15</th>\n",
       "      <td>Histology (92-00) ICD-O-2</td>\n",
       "      <td>48-51</td>\n",
       "      <td>4</td>\n",
       "    </tr>\n",
       "    <tr>\n",
       "      <th>16</th>\n",
       "      <td>Behavior (92-00) ICD-O-2</td>\n",
       "      <td>52-52</td>\n",
       "      <td>1</td>\n",
       "    </tr>\n",
       "    <tr>\n",
       "      <th>17</th>\n",
       "      <td>Histologic Type ICD-O-3</td>\n",
       "      <td>53-56</td>\n",
       "      <td>4</td>\n",
       "    </tr>\n",
       "    <tr>\n",
       "      <th>18</th>\n",
       "      <td>Behavior Code ICD-O-3</td>\n",
       "      <td>57-57</td>\n",
       "      <td>1</td>\n",
       "    </tr>\n",
       "    <tr>\n",
       "      <th>19</th>\n",
       "      <td>Grade</td>\n",
       "      <td>58-58</td>\n",
       "      <td>1</td>\n",
       "    </tr>\n",
       "    <tr>\n",
       "      <th>20</th>\n",
       "      <td>Diagnostic Confirmation</td>\n",
       "      <td>59-59</td>\n",
       "      <td>1</td>\n",
       "    </tr>\n",
       "    <tr>\n",
       "      <th>21</th>\n",
       "      <td>Type of Reporting Source</td>\n",
       "      <td>60-60</td>\n",
       "      <td>1</td>\n",
       "    </tr>\n",
       "    <tr>\n",
       "      <th>22</th>\n",
       "      <td>EOD—Tumor Size</td>\n",
       "      <td>61-63</td>\n",
       "      <td>3</td>\n",
       "    </tr>\n",
       "    <tr>\n",
       "      <th>23</th>\n",
       "      <td>EOD—Extension</td>\n",
       "      <td>64-65</td>\n",
       "      <td>2</td>\n",
       "    </tr>\n",
       "    <tr>\n",
       "      <th>24</th>\n",
       "      <td>EOD—Extension Prost Path</td>\n",
       "      <td>66-67</td>\n",
       "      <td>2</td>\n",
       "    </tr>\n",
       "    <tr>\n",
       "      <th>25</th>\n",
       "      <td>EOD—Lymph Node Involv</td>\n",
       "      <td>68-68</td>\n",
       "      <td>1</td>\n",
       "    </tr>\n",
       "    <tr>\n",
       "      <th>26</th>\n",
       "      <td>Regional Nodes Positive</td>\n",
       "      <td>69-70</td>\n",
       "      <td>2</td>\n",
       "    </tr>\n",
       "    <tr>\n",
       "      <th>27</th>\n",
       "      <td>Regional Nodes Examined</td>\n",
       "      <td>71-72</td>\n",
       "      <td>2</td>\n",
       "    </tr>\n",
       "    <tr>\n",
       "      <th>28</th>\n",
       "      <td>EOD—Old 13 Digit</td>\n",
       "      <td>73-85</td>\n",
       "      <td>13</td>\n",
       "    </tr>\n",
       "    <tr>\n",
       "      <th>29</th>\n",
       "      <td>EOD—Old 2 Digit</td>\n",
       "      <td>86-87</td>\n",
       "      <td>2</td>\n",
       "    </tr>\n",
       "    <tr>\n",
       "      <th>...</th>\n",
       "      <td>...</td>\n",
       "      <td>...</td>\n",
       "      <td>...</td>\n",
       "    </tr>\n",
       "    <tr>\n",
       "      <th>94</th>\n",
       "      <td>ICCC site recode extended ICD-O-3</td>\n",
       "      <td>221-223</td>\n",
       "      <td>3</td>\n",
       "    </tr>\n",
       "    <tr>\n",
       "      <th>95</th>\n",
       "      <td>Behavior Recode for Analysis</td>\n",
       "      <td>224-224</td>\n",
       "      <td>1</td>\n",
       "    </tr>\n",
       "    <tr>\n",
       "      <th>96</th>\n",
       "      <td>ICD-O Coding Scheme</td>\n",
       "      <td>225-225</td>\n",
       "      <td>1</td>\n",
       "    </tr>\n",
       "    <tr>\n",
       "      <th>97</th>\n",
       "      <td>Histology Recode—Broad Groupings</td>\n",
       "      <td>226-227</td>\n",
       "      <td>2</td>\n",
       "    </tr>\n",
       "    <tr>\n",
       "      <th>98</th>\n",
       "      <td>Histology Recode—Brain Groupings</td>\n",
       "      <td>228-229</td>\n",
       "      <td>2</td>\n",
       "    </tr>\n",
       "    <tr>\n",
       "      <th>99</th>\n",
       "      <td>CS Schema v0202</td>\n",
       "      <td>230-232</td>\n",
       "      <td>3</td>\n",
       "    </tr>\n",
       "    <tr>\n",
       "      <th>100</th>\n",
       "      <td>Race recode (White, Black, Other)</td>\n",
       "      <td>233-233</td>\n",
       "      <td>1</td>\n",
       "    </tr>\n",
       "    <tr>\n",
       "      <th>101</th>\n",
       "      <td>Race recode (W, B, AI, API)</td>\n",
       "      <td>234-234</td>\n",
       "      <td>1</td>\n",
       "    </tr>\n",
       "    <tr>\n",
       "      <th>102</th>\n",
       "      <td>Origin recode NHIA (Hispanic, Non-Hisp)</td>\n",
       "      <td>235-235</td>\n",
       "      <td>1</td>\n",
       "    </tr>\n",
       "    <tr>\n",
       "      <th>103</th>\n",
       "      <td>SEER historic stage A</td>\n",
       "      <td>236-236</td>\n",
       "      <td>1</td>\n",
       "    </tr>\n",
       "    <tr>\n",
       "      <th>104</th>\n",
       "      <td>AJCC stage 3rd edition (1988-2003)</td>\n",
       "      <td>237-238</td>\n",
       "      <td>2</td>\n",
       "    </tr>\n",
       "    <tr>\n",
       "      <th>105</th>\n",
       "      <td>SEER modified AJCC Stage 3rd ed (1988-2003)</td>\n",
       "      <td>239-240</td>\n",
       "      <td>2</td>\n",
       "    </tr>\n",
       "    <tr>\n",
       "      <th>106</th>\n",
       "      <td>SEER Summary Stage 1977 (1995-2000)</td>\n",
       "      <td>241-241</td>\n",
       "      <td>1</td>\n",
       "    </tr>\n",
       "    <tr>\n",
       "      <th>107</th>\n",
       "      <td>SEER Summary Stage 2000 (2001-2003)</td>\n",
       "      <td>242-242</td>\n",
       "      <td>1</td>\n",
       "    </tr>\n",
       "    <tr>\n",
       "      <th>108</th>\n",
       "      <td>Number of primaries</td>\n",
       "      <td>243-244</td>\n",
       "      <td>2</td>\n",
       "    </tr>\n",
       "    <tr>\n",
       "      <th>109</th>\n",
       "      <td>First malignant primary indicator</td>\n",
       "      <td>245-245</td>\n",
       "      <td>1</td>\n",
       "    </tr>\n",
       "    <tr>\n",
       "      <th>110</th>\n",
       "      <td>State-county recode</td>\n",
       "      <td>246-250</td>\n",
       "      <td>5</td>\n",
       "    </tr>\n",
       "    <tr>\n",
       "      <th>111</th>\n",
       "      <td>Survival time recode</td>\n",
       "      <td>251-254</td>\n",
       "      <td>4</td>\n",
       "    </tr>\n",
       "    <tr>\n",
       "      <th>112</th>\n",
       "      <td>Cause of Death to SEER site recode</td>\n",
       "      <td>255-259</td>\n",
       "      <td>5</td>\n",
       "    </tr>\n",
       "    <tr>\n",
       "      <th>113</th>\n",
       "      <td>COD to site rec KM</td>\n",
       "      <td>260-264</td>\n",
       "      <td>5</td>\n",
       "    </tr>\n",
       "    <tr>\n",
       "      <th>114</th>\n",
       "      <td>Vital Status recode</td>\n",
       "      <td>265-265</td>\n",
       "      <td>1</td>\n",
       "    </tr>\n",
       "    <tr>\n",
       "      <th>115</th>\n",
       "      <td>IHS Link</td>\n",
       "      <td>266-266</td>\n",
       "      <td>1</td>\n",
       "    </tr>\n",
       "    <tr>\n",
       "      <th>116</th>\n",
       "      <td>Summary stage 2000 (1998+)</td>\n",
       "      <td>267-267</td>\n",
       "      <td>1</td>\n",
       "    </tr>\n",
       "    <tr>\n",
       "      <th>117</th>\n",
       "      <td>AYA site recode</td>\n",
       "      <td>268-269</td>\n",
       "      <td>2</td>\n",
       "    </tr>\n",
       "    <tr>\n",
       "      <th>118</th>\n",
       "      <td>Lymphoma subtype recode</td>\n",
       "      <td>270-271</td>\n",
       "      <td>2</td>\n",
       "    </tr>\n",
       "    <tr>\n",
       "      <th>119</th>\n",
       "      <td>SEER Cause-Specific Death Classification</td>\n",
       "      <td>272-272</td>\n",
       "      <td>1</td>\n",
       "    </tr>\n",
       "    <tr>\n",
       "      <th>120</th>\n",
       "      <td>SEER Other Cause of Death Classification</td>\n",
       "      <td>273-273</td>\n",
       "      <td>1</td>\n",
       "    </tr>\n",
       "    <tr>\n",
       "      <th>121</th>\n",
       "      <td>CS Tumor Size/Ext Eval</td>\n",
       "      <td>274-274</td>\n",
       "      <td>1</td>\n",
       "    </tr>\n",
       "    <tr>\n",
       "      <th>122</th>\n",
       "      <td>CS Lymph Nodes Eval</td>\n",
       "      <td>275-275</td>\n",
       "      <td>1</td>\n",
       "    </tr>\n",
       "    <tr>\n",
       "      <th>123</th>\n",
       "      <td>CS Mets Eval</td>\n",
       "      <td>276-276</td>\n",
       "      <td>1</td>\n",
       "    </tr>\n",
       "  </tbody>\n",
       "</table>\n",
       "<p>124 rows × 3 columns</p>\n",
       "</div>"
      ],
      "text/plain": [
       "                                       Item Name Positions  Length\n",
       "0                              Patient ID number       1-8       8\n",
       "1                                    Registry ID      9-18      10\n",
       "2                           Marital Status at DX     19-19       1\n",
       "3                                 Race/Ethnicity     20-21       2\n",
       "4                        Spanish/Hispanic Origin     22-22       1\n",
       "5                   NHIA Derived Hispanic Origin     23-23       1\n",
       "6                                            Sex     24-24       1\n",
       "7                               Age at diagnosis     25-27       3\n",
       "8                                  Year of Birth     28-31       4\n",
       "9                                    Birth Place     32-34       3\n",
       "10                      Sequence Number--Central     35-36       2\n",
       "11                            Month of diagnosis     37-38       2\n",
       "12                             Year of diagnosis     39-42       4\n",
       "13                                  Primary Site     43-46       4\n",
       "14                                    Laterality     47-47       1\n",
       "15                     Histology (92-00) ICD-O-2     48-51       4\n",
       "16                      Behavior (92-00) ICD-O-2     52-52       1\n",
       "17                       Histologic Type ICD-O-3     53-56       4\n",
       "18                         Behavior Code ICD-O-3     57-57       1\n",
       "19                                         Grade     58-58       1\n",
       "20                       Diagnostic Confirmation     59-59       1\n",
       "21                      Type of Reporting Source     60-60       1\n",
       "22                                EOD—Tumor Size     61-63       3\n",
       "23                                 EOD—Extension     64-65       2\n",
       "24                      EOD—Extension Prost Path     66-67       2\n",
       "25                         EOD—Lymph Node Involv     68-68       1\n",
       "26                       Regional Nodes Positive     69-70       2\n",
       "27                       Regional Nodes Examined     71-72       2\n",
       "28                              EOD—Old 13 Digit     73-85      13\n",
       "29                               EOD—Old 2 Digit     86-87       2\n",
       "..                                           ...       ...     ...\n",
       "94             ICCC site recode extended ICD-O-3   221-223       3\n",
       "95                  Behavior Recode for Analysis   224-224       1\n",
       "96                           ICD-O Coding Scheme   225-225       1\n",
       "97              Histology Recode—Broad Groupings   226-227       2\n",
       "98              Histology Recode—Brain Groupings   228-229       2\n",
       "99                               CS Schema v0202   230-232       3\n",
       "100            Race recode (White, Black, Other)   233-233       1\n",
       "101                  Race recode (W, B, AI, API)   234-234       1\n",
       "102      Origin recode NHIA (Hispanic, Non-Hisp)   235-235       1\n",
       "103                        SEER historic stage A   236-236       1\n",
       "104           AJCC stage 3rd edition (1988-2003)   237-238       2\n",
       "105  SEER modified AJCC Stage 3rd ed (1988-2003)   239-240       2\n",
       "106          SEER Summary Stage 1977 (1995-2000)   241-241       1\n",
       "107          SEER Summary Stage 2000 (2001-2003)   242-242       1\n",
       "108                          Number of primaries   243-244       2\n",
       "109            First malignant primary indicator   245-245       1\n",
       "110                          State-county recode   246-250       5\n",
       "111                         Survival time recode   251-254       4\n",
       "112           Cause of Death to SEER site recode   255-259       5\n",
       "113                           COD to site rec KM   260-264       5\n",
       "114                          Vital Status recode   265-265       1\n",
       "115                                     IHS Link   266-266       1\n",
       "116                   Summary stage 2000 (1998+)   267-267       1\n",
       "117                              AYA site recode   268-269       2\n",
       "118                      Lymphoma subtype recode   270-271       2\n",
       "119     SEER Cause-Specific Death Classification   272-272       1\n",
       "120     SEER Other Cause of Death Classification   273-273       1\n",
       "121                       CS Tumor Size/Ext Eval   274-274       1\n",
       "122                          CS Lymph Nodes Eval   275-275       1\n",
       "123                                 CS Mets Eval   276-276       1\n",
       "\n",
       "[124 rows x 3 columns]"
      ]
     },
     "execution_count": 15,
     "metadata": {},
     "output_type": "execute_result"
    }
   ],
   "source": [
    "columns_locations = pd.read_csv(columns_file, sep=\";\")\n",
    "columns_locations"
   ]
  },
  {
   "cell_type": "code",
   "execution_count": 16,
   "metadata": {
    "collapsed": true,
    "deletable": true,
    "editable": true
   },
   "outputs": [],
   "source": [
    "import re"
   ]
  },
  {
   "cell_type": "code",
   "execution_count": 6,
   "metadata": {
    "collapsed": true,
    "deletable": true,
    "editable": true
   },
   "outputs": [],
   "source": [
    "list_of_rows = []\n",
    "for index, row in columns_locations.iterrows():\n",
    "    a_row = [row[0]]\n",
    "    a_row.append(int(row[1].split(\"-\")[0]))\n",
    "    a_row.append(int(row[1].split(\"-\")[1]))\n",
    "    a_row.append(int(row[2]))\n",
    "    list_of_rows.append(a_row)\n",
    "\n",
    "columns = ['Name', 'Init', 'End', 'Length']\n",
    "columns_locations_split = pd.DataFrame(list_of_rows, columns=columns)"
   ]
  },
  {
   "cell_type": "code",
   "execution_count": 7,
   "metadata": {
    "collapsed": false,
    "deletable": true,
    "editable": true
   },
   "outputs": [
    {
     "data": {
      "text/html": [
       "<div>\n",
       "<style scoped>\n",
       "    .dataframe tbody tr th:only-of-type {\n",
       "        vertical-align: middle;\n",
       "    }\n",
       "\n",
       "    .dataframe tbody tr th {\n",
       "        vertical-align: top;\n",
       "    }\n",
       "\n",
       "    .dataframe thead th {\n",
       "        text-align: right;\n",
       "    }\n",
       "</style>\n",
       "<table border=\"1\" class=\"dataframe\">\n",
       "  <thead>\n",
       "    <tr style=\"text-align: right;\">\n",
       "      <th></th>\n",
       "      <th>Name</th>\n",
       "      <th>Init</th>\n",
       "      <th>End</th>\n",
       "      <th>Length</th>\n",
       "    </tr>\n",
       "  </thead>\n",
       "  <tbody>\n",
       "    <tr>\n",
       "      <th>0</th>\n",
       "      <td>Patient ID number</td>\n",
       "      <td>1</td>\n",
       "      <td>8</td>\n",
       "      <td>8</td>\n",
       "    </tr>\n",
       "    <tr>\n",
       "      <th>1</th>\n",
       "      <td>Registry ID</td>\n",
       "      <td>9</td>\n",
       "      <td>18</td>\n",
       "      <td>10</td>\n",
       "    </tr>\n",
       "    <tr>\n",
       "      <th>2</th>\n",
       "      <td>Marital Status at DX</td>\n",
       "      <td>19</td>\n",
       "      <td>19</td>\n",
       "      <td>1</td>\n",
       "    </tr>\n",
       "    <tr>\n",
       "      <th>3</th>\n",
       "      <td>Race/Ethnicity</td>\n",
       "      <td>20</td>\n",
       "      <td>21</td>\n",
       "      <td>2</td>\n",
       "    </tr>\n",
       "    <tr>\n",
       "      <th>4</th>\n",
       "      <td>Spanish/Hispanic Origin</td>\n",
       "      <td>22</td>\n",
       "      <td>22</td>\n",
       "      <td>1</td>\n",
       "    </tr>\n",
       "  </tbody>\n",
       "</table>\n",
       "</div>"
      ],
      "text/plain": [
       "                      Name  Init  End  Length\n",
       "0        Patient ID number     1    8       8\n",
       "1              Registry ID     9   18      10\n",
       "2     Marital Status at DX    19   19       1\n",
       "3           Race/Ethnicity    20   21       2\n",
       "4  Spanish/Hispanic Origin    22   22       1"
      ]
     },
     "execution_count": 7,
     "metadata": {},
     "output_type": "execute_result"
    }
   ],
   "source": [
    "columns_locations_split.head()"
   ]
  },
  {
   "cell_type": "code",
   "execution_count": 8,
   "metadata": {
    "collapsed": true,
    "deletable": true,
    "editable": true
   },
   "outputs": [],
   "source": [
    "import os"
   ]
  },
  {
   "cell_type": "code",
   "execution_count": 9,
   "metadata": {
    "collapsed": true,
    "deletable": true,
    "editable": true
   },
   "outputs": [],
   "source": [
    "root = \"seer/incidence\"\n",
    "files = ['BREAST.TXT',\n",
    "         'COLRECT.TXT',\n",
    "         'DIGOTHR.TXT',\n",
    "         'FEMGEN.TXT',\n",
    "         'LYMYLEUK.TXT',\n",
    "         'MALEGEN.TXT',\n",
    "         'OTHER.TXT',\n",
    "         'RESPIR.TXT',\n",
    "         'URINARY.TXT']\n",
    "\n",
    "folders = ['yr1992_2008.sj_la_rg_ak',\n",
    "           'yr2005.lo_2nd_half',\n",
    "           'yr1973_2008.seer9',\n",
    "           'yr2000_2008.ca_ky_lo_nj',]"
   ]
  },
  {
   "cell_type": "code",
   "execution_count": 10,
   "metadata": {
    "collapsed": true,
    "deletable": true,
    "editable": true
   },
   "outputs": [],
   "source": [
    "def my_files(root=root, files=files, folders=folders):\n",
    "    hahahaha = []\n",
    "    for i in folders:\n",
    "        for f in files:\n",
    "            hahahaha.append( os.path.join(root,i,f) )\n",
    "    return hahahaha"
   ]
  },
  {
   "cell_type": "code",
   "execution_count": 11,
   "metadata": {
    "collapsed": false,
    "deletable": true,
    "editable": true
   },
   "outputs": [
    {
     "data": {
      "text/plain": [
       "'seer/incidence/yr1992_2008.sj_la_rg_ak/BREAST.TXT'"
      ]
     },
     "execution_count": 11,
     "metadata": {},
     "output_type": "execute_result"
    }
   ],
   "source": [
    "fs = my_files()[0]\n",
    "fs"
   ]
  },
  {
   "cell_type": "code",
   "execution_count": 12,
   "metadata": {
    "collapsed": true,
    "deletable": true,
    "editable": true
   },
   "outputs": [],
   "source": [
    "str_rows = []\n",
    "for i,r in pd.read_csv(fs, header= None).iterrows():\n",
    "    str_rows.append(r[0])"
   ]
  },
  {
   "cell_type": "code",
   "execution_count": 13,
   "metadata": {
    "collapsed": false,
    "deletable": true,
    "editable": true
   },
   "outputs": [
    {
     "data": {
      "text/plain": [
       "140829"
      ]
     },
     "execution_count": 13,
     "metadata": {},
     "output_type": "execute_result"
    }
   ],
   "source": [
    "len(str_rows)"
   ]
  },
  {
   "cell_type": "code",
   "execution_count": 14,
   "metadata": {
    "collapsed": false,
    "deletable": true,
    "editable": true
   },
   "outputs": [
    {
     "data": {
      "text/plain": [
       "['570000150000001537201002058194804502052007C50918522385223911        1116                       9992007500002002000998798700098899310054741110103000202000200005250   0193      01             21226000260001749C5091161161161023309980131102      0101323701022600026000402369999550',\n",
       " '570001730000001537501002085191103302091996C5062850038500311105510  00008                   4119                                                                      009050    02             21826000260001746C506116116116102320998013110122221 020133030005500805008040 369999   ',\n",
       " '570002790000001537502002068192403302121992C5042850028500291199900  00011                   4999                                                                      009050    02             21426000260002330D05999999999999922099801322000000  020132371600000000000010 999999   ',\n",
       " '570007650000001537401002062193603303091998C5052850038500321101018  09800                   4119                                                               00  0007790  000002             21326000260001745C505116116116102320998013110110101 0201316309072600026000401369999   ',\n",
       " '570011290000001537502002062194201102102004C50918500385003211        9800                       0231000000008008009800000000098820000032111110102000202000200000000   1090      02             21326000260001749C5091161161161023309980132201      0211330304020000000000101369999000']"
      ]
     },
     "execution_count": 14,
     "metadata": {},
     "output_type": "execute_result"
    }
   ],
   "source": [
    "str_rows[:5]"
   ]
  },
  {
   "cell_type": "code",
   "execution_count": 15,
   "metadata": {
    "collapsed": true,
    "deletable": true,
    "editable": true
   },
   "outputs": [],
   "source": [
    "def caca():\n",
    "    columns = []\n",
    "    for k,elem in columns_locations_split.iterrows():\n",
    "        start = int(elem['Init'])\n",
    "        end = int(elem['End'])\n",
    "        columns.append(str_rows[0][start:end])"
   ]
  },
  {
   "cell_type": "code",
   "execution_count": 16,
   "metadata": {
    "collapsed": false,
    "deletable": true,
    "editable": true
   },
   "outputs": [
    {
     "name": "stdout",
     "output_type": "stream",
     "text": [
      "CPU times: user 16.8 ms, sys: 32 µs, total: 16.8 ms\n",
      "Wall time: 16.5 ms\n"
     ]
    }
   ],
   "source": [
    "%time caca()"
   ]
  },
  {
   "cell_type": "code",
   "execution_count": null,
   "metadata": {
    "collapsed": true,
    "deletable": true,
    "editable": true
   },
   "outputs": [],
   "source": [
    "columns_names = columns_locations_split['Name']\n",
    "list_of_columns = []\n",
    "for r in str_rows:\n",
    "    columns = []\n",
    "    for k,elem in columns_locations_split.iterrows():\n",
    "        start = elem['Init']\n",
    "        end = elem['End']\n",
    "        columns.append(r[start:end])\n",
    "    list_of_columns.append(columns)\n",
    "df_columns = pd.DataFrame(columns)\n",
    "df_columns.to_csv(re.sub())"
   ]
  },
  {
   "cell_type": "code",
   "execution_count": null,
   "metadata": {
    "collapsed": true,
    "deletable": true,
    "editable": true,
    "scrolled": true
   },
   "outputs": [],
   "source": [
    "list_of_columns"
   ]
  },
  {
   "cell_type": "code",
   "execution_count": null,
   "metadata": {
    "collapsed": true,
    "deletable": true,
    "editable": true
   },
   "outputs": [],
   "source": [
    "df_columns = pd.DataFrame(list_of_columns, columns=columns_names)\n",
    "\n",
    "dest = re.sub(\".TXT\", \".csv\", fs) #\"{}.csv\".format(file)\n",
    "df_columns.to_csv(dest)\n",
    "dest"
   ]
  },
  {
   "cell_type": "code",
   "execution_count": null,
   "metadata": {
    "collapsed": true,
    "deletable": true,
    "editable": true
   },
   "outputs": [],
   "source": [
    "columns_names = columns_locations_split['Name']\n",
    "\n",
    "\n",
    "def to_csv(file, dest=None):\n",
    "    #Around 25 mins per txt file.\n",
    "    str_rows = []\n",
    "    for i,r in pd.read_csv(file, header= None).iterrows():\n",
    "        str_rows.append(r[0])\n",
    "    \n",
    "    list_of_columns = []\n",
    "    for r in str_rows:\n",
    "        columns = []\n",
    "        for k,elem in columns_locations_split.iterrows():\n",
    "            start = elem['Init']\n",
    "            end = elem['End']\n",
    "            columns.append(str_rows[0][start:end])\n",
    "        list_of_columns.append(columns)\n",
    "    df_columns = pd.DataFrame(list_of_columns, columns=columns_names)\n",
    "    \n",
    "    try:\n",
    "        dest\n",
    "    except:\n",
    "        dest = re.sub(\".txt\", \".csv\", file) #\"{}.csv\".format(file)\n",
    "    df_columns.to_csv(dest)\n",
    "    return dest"
   ]
  },
  {
   "cell_type": "code",
   "execution_count": null,
   "metadata": {
    "collapsed": true,
    "deletable": true,
    "editable": true
   },
   "outputs": [],
   "source": [
    "to_csv(my_files()[0])"
   ]
  },
  {
   "cell_type": "code",
   "execution_count": null,
   "metadata": {
    "collapsed": true,
    "deletable": true,
    "editable": true
   },
   "outputs": [],
   "source": []
  },
  {
   "cell_type": "code",
   "execution_count": null,
   "metadata": {
    "collapsed": true,
    "deletable": true,
    "editable": true
   },
   "outputs": [],
   "source": []
  }
 ],
 "metadata": {
  "kernelspec": {
   "display_name": "Python 3",
   "language": "python",
   "name": "python3"
  },
  "language_info": {
   "codemirror_mode": {
    "name": "ipython",
    "version": 3
   },
   "file_extension": ".py",
   "mimetype": "text/x-python",
   "name": "python",
   "nbconvert_exporter": "python",
   "pygments_lexer": "ipython3",
   "version": "3.5.2"
  }
 },
 "nbformat": 4,
 "nbformat_minor": 1
}

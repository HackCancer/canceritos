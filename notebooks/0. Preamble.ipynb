{
 "cells": [
  {
   "cell_type": "markdown",
   "metadata": {},
   "source": [
    "# 0. PREAMBLE "
   ]
  },
  {
   "cell_type": "markdown",
   "metadata": {},
   "source": [
    "Get the materials: TODO"
   ]
  },
  {
   "cell_type": "markdown",
   "metadata": {},
   "source": [
    "# # Requirements\n",
    "\n",
    "## This tutorial requires the following packages:\n",
    "\n",
    "    Python version 3.5\n",
    "        Python 3.4 should be fine as well\n",
    "        likely Python 2.7 would be also fine, but who knows? :P\n",
    "\n",
    "    numpy version 1.10 or later: http://www.numpy.org/\n",
    "    scipy version 0.16 or later: http://www.scipy.org/\n",
    "    matplotlib version 1.4 or later: http://matplotlib.org/\n",
    "    pandas version 0.16 or later: http://pandas.pydata.org\n",
    "    scikit-learn version 0.15 or later: http://scikit-learn.org\n",
    "    ipython/jupyter version 4.0 or later, with notebook support\n",
    "    seaborn version 0.19.0 or later https://seaborn.pydata.org/\n"
   ]
  },
  {
   "cell_type": "markdown",
   "metadata": {},
   "source": [
    "# Python version\n",
    "\n",
    "Currently running Python **3** on **Anaconda**"
   ]
  },
  {
   "cell_type": "code",
   "execution_count": 16,
   "metadata": {
    "collapsed": false
   },
   "outputs": [
    {
     "name": "stdout",
     "output_type": "stream",
     "text": [
      "Python 3.6.2 :: Continuum Analytics, Inc.\r\n"
     ]
    }
   ],
   "source": [
    "!python --version"
   ]
  },
  {
   "cell_type": "code",
   "execution_count": 17,
   "metadata": {
    "collapsed": true
   },
   "outputs": [],
   "source": [
    "# Create new env and add kernel to ipython\n",
    "#!python -m pip install ipykernel\n",
    "#!python -m ipykernel install --user --name hackcancer --display-name \"HackCancer\""
   ]
  },
  {
   "cell_type": "markdown",
   "metadata": {},
   "source": [
    "# Test everything is running\n",
    "\n",
    "## 1. Check imports"
   ]
  },
  {
   "cell_type": "code",
   "execution_count": 18,
   "metadata": {
    "collapsed": false
   },
   "outputs": [],
   "source": [
    "import numpy as np\n",
    "import scipy as sp\n",
    "import pandas as pd\n",
    "import matplotlib.pyplot as plt\n",
    "import sklearn\n",
    "import seaborn as sb"
   ]
  },
  {
   "cell_type": "markdown",
   "metadata": {},
   "source": [
    "## 2. Check installed Versions"
   ]
  },
  {
   "cell_type": "code",
   "execution_count": 19,
   "metadata": {
    "collapsed": false
   },
   "outputs": [
    {
     "name": "stdout",
     "output_type": "stream",
     "text": [
      "numpy: 1.13.1\n",
      "scipy: 0.19.1\n",
      "matplotlib: 2.0.2\n",
      "iPython: 6.4.0\n",
      "scikit-learn: 0.19.0\n",
      "seaborn: 0.19.0\n"
     ]
    }
   ],
   "source": [
    "import numpy\n",
    "print('numpy:', numpy.__version__)\n",
    "\n",
    "import scipy\n",
    "print('scipy:', scipy.__version__)\n",
    "\n",
    "import matplotlib\n",
    "print('matplotlib:', matplotlib.__version__)\n",
    "\n",
    "import IPython\n",
    "print('iPython:', IPython.__version__)\n",
    "\n",
    "import sklearn\n",
    "print('scikit-learn:', sklearn.__version__)\n",
    "\n",
    "import seaborn\n",
    "print('seaborn:', sklearn.__version__)"
   ]
  },
  {
   "cell_type": "markdown",
   "metadata": {},
   "source": [
    "# If everything worked till down here, you're ready to start!"
   ]
  }
 ],
 "metadata": {
  "kernelspec": {
   "display_name": "HackCancer",
   "language": "python",
   "name": "hackcancer"
  },
  "language_info": {
   "codemirror_mode": {
    "name": "ipython",
    "version": 3
   },
   "file_extension": ".py",
   "mimetype": "text/x-python",
   "name": "python",
   "nbconvert_exporter": "python",
   "pygments_lexer": "ipython3",
   "version": "3.6.2"
  }
 },
 "nbformat": 4,
 "nbformat_minor": 0
}

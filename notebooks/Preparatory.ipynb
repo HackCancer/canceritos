{
 "cells": [
  {
   "cell_type": "markdown",
   "metadata": {
    "deletable": true,
    "editable": true
   },
   "source": [
    "Notebook to explore SEER data"
   ]
  },
  {
   "cell_type": "code",
   "execution_count": 2,
   "metadata": {
    "collapsed": true,
    "deletable": true,
    "editable": true
   },
   "outputs": [],
   "source": [
    "import pandas as pd"
   ]
  },
  {
   "cell_type": "code",
   "execution_count": 3,
   "metadata": {
    "collapsed": false,
    "deletable": true,
    "editable": true
   },
   "outputs": [
    {
     "name": "stdout",
     "output_type": "stream",
     "text": [
      "/Users/patxiestomba/canceritos/notebooks\r\n"
     ]
    }
   ],
   "source": [
    "!pwd"
   ]
  },
  {
   "cell_type": "code",
   "execution_count": 4,
   "metadata": {
    "collapsed": true,
    "deletable": true,
    "editable": true
   },
   "outputs": [],
   "source": [
    "file_name = \"../data/processed/seer/incidence/yr1973_2008.seer9/COLRECT.TXT\""
   ]
  },
  {
   "cell_type": "code",
   "execution_count": 5,
   "metadata": {
    "collapsed": true,
    "deletable": true,
    "editable": true
   },
   "outputs": [],
   "source": [
    "columns_keep=['Patient ID number',\n",
    " 'Registry ID',\n",
    " 'Marital Status at DX',\n",
    " 'Sex',\n",
    " 'Age at diagnosis',\n",
    " 'Year of Birth',\n",
    " 'Birth Place',\n",
    " 'Sequence Number--Central',\n",
    " 'Month of diagnosis',\n",
    " 'Year of diagnosis',\n",
    " 'Primary Site',\n",
    " 'Laterality',\n",
    " 'Grade',\n",
    " 'Diagnostic Confirmation',\n",
    " 'Type of Reporting Source',\n",
    " 'EOD—Tumor Size',\n",
    " 'EOD—Extension',\n",
    " 'EOD—Lymph Node Involv',\n",
    " 'Regional Nodes Positive',\n",
    " 'Regional Nodes Examined',\n",
    " 'RX Summ—Surg Prim Site',#98+\n",
    " 'Reason for no surgery',\n",
    " 'RX Summ—Radiation',\n",
    " 'RX Summ—Surg / Rad Seq',\n",
    " #'SEER Record Number',\n",
    " 'Age Recode <1 Year olds',\n",
    " 'Histology Recode—Broad Groupings',\n",
    " 'Race recode (W, B, AI, API)',\n",
    " 'SEER Cause-Specific Death Classification',\n",
    " 'SEER historic stage A',\n",
    " 'Number of primaries',\n",
    " 'First malignant primary indicator',\n",
    " 'State-county recode',\n",
    " 'Survival time recode',\n",
    " 'Cause of Death to SEER site recode']"
   ]
  },
  {
   "cell_type": "code",
   "execution_count": 6,
   "metadata": {
    "collapsed": false,
    "deletable": true,
    "editable": true
   },
   "outputs": [],
   "source": [
    "data = pd.read_csv(file_name, sep=\",\", usecols=columns_keep, dtype=str)"
   ]
  },
  {
   "cell_type": "code",
   "execution_count": 7,
   "metadata": {
    "collapsed": false,
    "deletable": true,
    "editable": true
   },
   "outputs": [],
   "source": [
    "data = data.replace(r'\\s+', pd.np.nan, regex=True)"
   ]
  },
  {
   "cell_type": "code",
   "execution_count": 8,
   "metadata": {
    "collapsed": false,
    "deletable": true,
    "editable": true
   },
   "outputs": [
    {
     "name": "stdout",
     "output_type": "stream",
     "text": [
      "Patient ID number object\n",
      "Registry ID object\n",
      "Marital Status at DX object\n",
      "Sex object\n",
      "Age at diagnosis object\n",
      "Year of Birth object\n",
      "Birth Place object\n",
      "Sequence Number--Central object\n",
      "Month of diagnosis object\n",
      "Year of diagnosis object\n",
      "Primary Site object\n",
      "Laterality object\n",
      "Grade object\n",
      "Diagnostic Confirmation object\n",
      "Type of Reporting Source object\n",
      "EOD—Tumor Size object\n",
      "EOD—Extension object\n",
      "EOD—Lymph Node Involv object\n",
      "Regional Nodes Positive object\n",
      "Regional Nodes Examined object\n",
      "RX Summ—Surg Prim Site object\n",
      "Reason for no surgery object\n",
      "RX Summ—Radiation object\n",
      "RX Summ—Surg / Rad Seq object\n",
      "Age Recode <1 Year olds object\n",
      "Histology Recode—Broad Groupings object\n",
      "Race recode (W, B, AI, API) object\n",
      "SEER historic stage A object\n",
      "Number of primaries object\n",
      "First malignant primary indicator object\n",
      "State-county recode object\n",
      "Survival time recode object\n",
      "Cause of Death to SEER site recode object\n",
      "SEER Cause-Specific Death Classification object\n"
     ]
    }
   ],
   "source": [
    "for column in data.columns:\n",
    "    print(column, data[column].dtype)"
   ]
  },
  {
   "cell_type": "code",
   "execution_count": 9,
   "metadata": {
    "collapsed": false,
    "deletable": true,
    "editable": true
   },
   "outputs": [
    {
     "data": {
      "text/plain": [
       "Patient ID number                                0\n",
       "Registry ID                                      0\n",
       "Marital Status at DX                             0\n",
       "Sex                                              0\n",
       "Age at diagnosis                                 0\n",
       "Year of Birth                                   24\n",
       "Birth Place                                      0\n",
       "Sequence Number--Central                         0\n",
       "Month of diagnosis                               0\n",
       "Year of diagnosis                                0\n",
       "Primary Site                                     0\n",
       "Laterality                                       0\n",
       "Grade                                            0\n",
       "Diagnostic Confirmation                          0\n",
       "Type of Reporting Source                         0\n",
       "EOD—Tumor Size                              241057\n",
       "EOD—Extension                               241057\n",
       "EOD—Lymph Node Involv                       241057\n",
       "Regional Nodes Positive                     172887\n",
       "Regional Nodes Examined                     172887\n",
       "RX Summ—Surg Prim Site                      309099\n",
       "Reason for no surgery                            0\n",
       "RX Summ—Radiation                                0\n",
       "RX Summ—Surg / Rad Seq                           0\n",
       "Age Recode <1 Year olds                          0\n",
       "Histology Recode—Broad Groupings                 0\n",
       "Race recode (W, B, AI, API)                      0\n",
       "SEER historic stage A                            0\n",
       "Number of primaries                              0\n",
       "First malignant primary indicator                0\n",
       "State-county recode                              0\n",
       "Survival time recode                             0\n",
       "Cause of Death to SEER site recode               0\n",
       "SEER Cause-Specific Death Classification         0\n",
       "dtype: int64"
      ]
     },
     "execution_count": 9,
     "metadata": {},
     "output_type": "execute_result"
    }
   ],
   "source": [
    "data.isnull().sum()"
   ]
  },
  {
   "cell_type": "code",
   "execution_count": 10,
   "metadata": {
    "collapsed": false,
    "deletable": true,
    "editable": true
   },
   "outputs": [
    {
     "data": {
      "text/html": [
       "<div>\n",
       "<table border=\"1\" class=\"dataframe\">\n",
       "  <thead>\n",
       "    <tr style=\"text-align: right;\">\n",
       "      <th></th>\n",
       "      <th>Patient ID number</th>\n",
       "      <th>Registry ID</th>\n",
       "      <th>Marital Status at DX</th>\n",
       "      <th>Sex</th>\n",
       "      <th>Age at diagnosis</th>\n",
       "      <th>Year of Birth</th>\n",
       "      <th>Birth Place</th>\n",
       "      <th>Sequence Number--Central</th>\n",
       "      <th>Month of diagnosis</th>\n",
       "      <th>Year of diagnosis</th>\n",
       "      <th>...</th>\n",
       "      <th>Age Recode &lt;1 Year olds</th>\n",
       "      <th>Histology Recode—Broad Groupings</th>\n",
       "      <th>Race recode (W, B, AI, API)</th>\n",
       "      <th>SEER historic stage A</th>\n",
       "      <th>Number of primaries</th>\n",
       "      <th>First malignant primary indicator</th>\n",
       "      <th>State-county recode</th>\n",
       "      <th>Survival time recode</th>\n",
       "      <th>Cause of Death to SEER site recode</th>\n",
       "      <th>SEER Cause-Specific Death Classification</th>\n",
       "    </tr>\n",
       "  </thead>\n",
       "  <tbody>\n",
       "    <tr>\n",
       "      <th>count</th>\n",
       "      <td>463675</td>\n",
       "      <td>463675</td>\n",
       "      <td>463675</td>\n",
       "      <td>463675</td>\n",
       "      <td>463675</td>\n",
       "      <td>463651</td>\n",
       "      <td>463675</td>\n",
       "      <td>463675</td>\n",
       "      <td>463675</td>\n",
       "      <td>463675</td>\n",
       "      <td>...</td>\n",
       "      <td>463675</td>\n",
       "      <td>463675</td>\n",
       "      <td>463675</td>\n",
       "      <td>463675</td>\n",
       "      <td>463675</td>\n",
       "      <td>463675</td>\n",
       "      <td>463675</td>\n",
       "      <td>463675</td>\n",
       "      <td>463675</td>\n",
       "      <td>463675</td>\n",
       "    </tr>\n",
       "    <tr>\n",
       "      <th>unique</th>\n",
       "      <td>438683</td>\n",
       "      <td>9</td>\n",
       "      <td>6</td>\n",
       "      <td>2</td>\n",
       "      <td>103</td>\n",
       "      <td>126</td>\n",
       "      <td>224</td>\n",
       "      <td>12</td>\n",
       "      <td>12</td>\n",
       "      <td>36</td>\n",
       "      <td>...</td>\n",
       "      <td>20</td>\n",
       "      <td>24</td>\n",
       "      <td>6</td>\n",
       "      <td>5</td>\n",
       "      <td>10</td>\n",
       "      <td>2</td>\n",
       "      <td>208</td>\n",
       "      <td>432</td>\n",
       "      <td>94</td>\n",
       "      <td>3</td>\n",
       "    </tr>\n",
       "    <tr>\n",
       "      <th>top</th>\n",
       "      <td>14164163</td>\n",
       "      <td>0000001520</td>\n",
       "      <td>2</td>\n",
       "      <td>1</td>\n",
       "      <td>076</td>\n",
       "      <td>1921</td>\n",
       "      <td>999</td>\n",
       "      <td>00</td>\n",
       "      <td>03</td>\n",
       "      <td>1998</td>\n",
       "      <td>...</td>\n",
       "      <td>15</td>\n",
       "      <td>05</td>\n",
       "      <td>1</td>\n",
       "      <td>1</td>\n",
       "      <td>01</td>\n",
       "      <td>1</td>\n",
       "      <td>26163</td>\n",
       "      <td>0001</td>\n",
       "      <td>21040</td>\n",
       "      <td>0</td>\n",
       "    </tr>\n",
       "    <tr>\n",
       "      <th>freq</th>\n",
       "      <td>6</td>\n",
       "      <td>81765</td>\n",
       "      <td>259423</td>\n",
       "      <td>233680</td>\n",
       "      <td>14623</td>\n",
       "      <td>12815</td>\n",
       "      <td>105099</td>\n",
       "      <td>324613</td>\n",
       "      <td>40973</td>\n",
       "      <td>14657</td>\n",
       "      <td>...</td>\n",
       "      <td>71159</td>\n",
       "      <td>393924</td>\n",
       "      <td>394297</td>\n",
       "      <td>167769</td>\n",
       "      <td>338242</td>\n",
       "      <td>370019</td>\n",
       "      <td>46438</td>\n",
       "      <td>20459</td>\n",
       "      <td>139208</td>\n",
       "      <td>229170</td>\n",
       "    </tr>\n",
       "  </tbody>\n",
       "</table>\n",
       "<p>4 rows × 34 columns</p>\n",
       "</div>"
      ],
      "text/plain": [
       "       Patient ID number Registry ID Marital Status at DX     Sex  \\\n",
       "count             463675      463675               463675  463675   \n",
       "unique            438683           9                    6       2   \n",
       "top             14164163  0000001520                    2       1   \n",
       "freq                   6       81765               259423  233680   \n",
       "\n",
       "       Age at diagnosis Year of Birth Birth Place Sequence Number--Central  \\\n",
       "count            463675        463651      463675                   463675   \n",
       "unique              103           126         224                       12   \n",
       "top                 076          1921         999                       00   \n",
       "freq              14623         12815      105099                   324613   \n",
       "\n",
       "       Month of diagnosis Year of diagnosis  \\\n",
       "count              463675            463675   \n",
       "unique                 12                36   \n",
       "top                    03              1998   \n",
       "freq                40973             14657   \n",
       "\n",
       "                         ...                    Age Recode <1 Year olds  \\\n",
       "count                    ...                                     463675   \n",
       "unique                   ...                                         20   \n",
       "top                      ...                                         15   \n",
       "freq                     ...                                      71159   \n",
       "\n",
       "       Histology Recode—Broad Groupings Race recode (W, B, AI, API)  \\\n",
       "count                            463675                      463675   \n",
       "unique                               24                           6   \n",
       "top                                  05                           1   \n",
       "freq                             393924                      394297   \n",
       "\n",
       "       SEER historic stage A Number of primaries  \\\n",
       "count                 463675              463675   \n",
       "unique                     5                  10   \n",
       "top                        1                  01   \n",
       "freq                  167769              338242   \n",
       "\n",
       "       First malignant primary indicator State-county recode  \\\n",
       "count                             463675              463675   \n",
       "unique                                 2                 208   \n",
       "top                                    1               26163   \n",
       "freq                              370019               46438   \n",
       "\n",
       "       Survival time recode Cause of Death to SEER site recode  \\\n",
       "count                463675                             463675   \n",
       "unique                  432                                 94   \n",
       "top                    0001                              21040   \n",
       "freq                  20459                             139208   \n",
       "\n",
       "       SEER Cause-Specific Death Classification  \n",
       "count                                    463675  \n",
       "unique                                        3  \n",
       "top                                           0  \n",
       "freq                                     229170  \n",
       "\n",
       "[4 rows x 34 columns]"
      ]
     },
     "execution_count": 10,
     "metadata": {},
     "output_type": "execute_result"
    }
   ],
   "source": [
    "data.describe()"
   ]
  },
  {
   "cell_type": "code",
   "execution_count": 11,
   "metadata": {
    "collapsed": false,
    "deletable": true,
    "editable": true
   },
   "outputs": [],
   "source": [
    "data=data[(data[\"SEER Cause-Specific Death Classification\"]==\"1\") & (data[\"Survival time recode\"]!=\"0000\")]"
   ]
  },
  {
   "cell_type": "code",
   "execution_count": 12,
   "metadata": {
    "collapsed": false,
    "deletable": true,
    "editable": true
   },
   "outputs": [],
   "source": [
    "data[\"Survival months\"]=data[\"Survival time recode\"].map(lambda x: int(x[0:2])*12+int(x[2:4]))"
   ]
  },
  {
   "cell_type": "code",
   "execution_count": 13,
   "metadata": {
    "collapsed": false,
    "deletable": true,
    "editable": true
   },
   "outputs": [],
   "source": [
    "data['Year of diagnosis']=data['Year of diagnosis'].astype(int)"
   ]
  },
  {
   "cell_type": "code",
   "execution_count": 14,
   "metadata": {
    "collapsed": true,
    "deletable": true,
    "editable": true
   },
   "outputs": [],
   "source": [
    "%matplotlib inline"
   ]
  },
  {
   "cell_type": "code",
   "execution_count": 15,
   "metadata": {
    "collapsed": false,
    "deletable": true,
    "editable": true
   },
   "outputs": [
    {
     "data": {
      "text/plain": [
       "<matplotlib.axes._subplots.AxesSubplot at 0x118298fd0>"
      ]
     },
     "execution_count": 15,
     "metadata": {},
     "output_type": "execute_result"
    },
    {
     "data": {
      "image/png": "[encoded data removed]",
      "text/plain": [
       "<matplotlib.figure.Figure at 0x1184c5048>"
      ]
     },
     "metadata": {},
     "output_type": "display_data"
    }
   ],
   "source": [
    "data['Year of diagnosis'].hist(bins=50)"
   ]
  },
  {
   "cell_type": "code",
   "execution_count": 16,
   "metadata": {
    "collapsed": false,
    "deletable": true,
    "editable": true
   },
   "outputs": [],
   "source": [
    "data=data[(data['Year of diagnosis']>=1988) & (data['Year of diagnosis']<=2003)]"
   ]
  },
  {
   "cell_type": "code",
   "execution_count": 17,
   "metadata": {
    "collapsed": false,
    "deletable": true,
    "editable": true
   },
   "outputs": [
    {
     "data": {
      "text/plain": [
       "<matplotlib.axes._subplots.AxesSubplot at 0x11a2403c8>"
      ]
     },
     "execution_count": 17,
     "metadata": {},
     "output_type": "execute_result"
    },
    {
     "data": {
      "image/png": "[encoded data removed]",
      "text/plain": [
       "<matplotlib.figure.Figure at 0x11a582128>"
      ]
     },
     "metadata": {},
     "output_type": "display_data"
    }
   ],
   "source": [
    "data['Year of diagnosis'].hist(bins=50)"
   ]
  },
  {
   "cell_type": "markdown",
   "metadata": {
    "deletable": true,
    "editable": true
   },
   "source": [
    "## Exploratory"
   ]
  },
  {
   "cell_type": "code",
   "execution_count": 18,
   "metadata": {
    "collapsed": false,
    "deletable": true,
    "editable": true
   },
   "outputs": [
    {
     "data": {
      "text/plain": [
       "Index(['Marital Status at DX', 'Sex', 'Age at diagnosis', 'Year of Birth',\n",
       "       'Birth Place', 'Sequence Number--Central', 'Month of diagnosis',\n",
       "       'Year of diagnosis', 'Primary Site', 'Laterality', 'Grade',\n",
       "       'Diagnostic Confirmation', 'Type of Reporting Source', 'EOD—Tumor Size',\n",
       "       'EOD—Extension', 'EOD—Lymph Node Involv', 'Regional Nodes Positive',\n",
       "       'Regional Nodes Examined', 'RX Summ—Surg Prim Site',\n",
       "       'Reason for no surgery', 'RX Summ—Radiation', 'RX Summ—Surg / Rad Seq',\n",
       "       'Age Recode <1 Year olds', 'Histology Recode—Broad Groupings',\n",
       "       'Race recode (W, B, AI, API)', 'SEER historic stage A',\n",
       "       'Number of primaries', 'First malignant primary indicator',\n",
       "       'State-county recode', 'Survival time recode',\n",
       "       'Cause of Death to SEER site recode',\n",
       "       'SEER Cause-Specific Death Classification', 'Survival months'],\n",
       "      dtype='object')"
      ]
     },
     "execution_count": 18,
     "metadata": {},
     "output_type": "execute_result"
    }
   ],
   "source": [
    "data.columns[2:]"
   ]
  },
  {
   "cell_type": "code",
   "execution_count": 19,
   "metadata": {
    "collapsed": true,
    "deletable": true,
    "editable": true
   },
   "outputs": [],
   "source": [
    "cols_to_plot = [\n",
    "    'Marital Status at DX',\n",
    "    'Sex',\n",
    "    'Month of diagnosis',\n",
    "    'Primary Site', 'Laterality', 'Grade', 'Diagnostic Confirmation',\n",
    "    'EOD—Lymph Node Involv', 'Regional Nodes Positive',\n",
    "       'Regional Nodes Examined', 'RX Summ—Surg Prim Site',\n",
    "       'Reason for no surgery', 'RX Summ—Radiation', 'RX Summ—Surg / Rad Seq',\n",
    "       'Age Recode <1 Year olds', 'Histology Recode—Broad Groupings',\n",
    "       'Race recode (W, B, AI, API)', 'SEER historic stage A',\n",
    "       'Number of primaries', 'First malignant primary indicator',\n",
    "       'State-county recode',\n",
    "    'Cause of Death to SEER site recode',\n",
    "       'SEER Cause-Specific Death Classification'\n",
    "]"
   ]
  },
  {
   "cell_type": "code",
   "execution_count": 20,
   "metadata": {
    "collapsed": false,
    "deletable": true,
    "editable": true
   },
   "outputs": [],
   "source": [
    "def death_cause_group(death_cause):\n",
    "    death_cause = int(death_cause)\n",
    "    if death_cause == 21040:\n",
    "        return 'Colon excluding Rectum'\n",
    "    elif death_cause == 21050:\n",
    "        return 'Rectum and Rectosigmoide Junction'\n",
    "    elif death_cause == 21060:\n",
    "        return 'Anus, Anal Canal and Anorectum'\n",
    "    else:\n",
    "        return 'Other'"
   ]
  },
  {
   "cell_type": "code",
   "execution_count": 21,
   "metadata": {
    "collapsed": true,
    "deletable": true,
    "editable": true
   },
   "outputs": [],
   "source": [
    "data['Cause of Death Group'] = data['Cause of Death to SEER site recode'].map(death_cause_group)"
   ]
  },
  {
   "cell_type": "code",
   "execution_count": 22,
   "metadata": {
    "collapsed": false
   },
   "outputs": [],
   "source": [
    "data.to_csv('../data/processed/seer/incidence/yr1973_2008.seer9/COLRECT_FILTERED.csv')"
   ]
  },
  {
   "cell_type": "code",
   "execution_count": null,
   "metadata": {
    "collapsed": true
   },
   "outputs": [],
   "source": []
  }
 ],
 "metadata": {
  "kernelspec": {
   "display_name": "Python 3",
   "language": "python",
   "name": "python3"
  },
  "language_info": {
   "codemirror_mode": {
    "name": "ipython",
    "version": 3
   },
   "file_extension": ".py",
   "mimetype": "text/x-python",
   "name": "python",
   "nbconvert_exporter": "python",
   "pygments_lexer": "ipython3",
   "version": "3.5.2"
  }
 },
 "nbformat": 4,
 "nbformat_minor": 2
}
